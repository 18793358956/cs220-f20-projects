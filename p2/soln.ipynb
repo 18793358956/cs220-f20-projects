{
 "cells": [
  {
   "cell_type": "code",
   "execution_count": 1,
   "metadata": {
    "collapsed": true
   },
   "outputs": [],
   "source": [
    "# This line is a comment because it starts with a pound sign (#). That                                                                                                                                         \n",
    "# means Python ignores it.  A comment is just for a human reading the                                                                                                                                          \n",
    "# code.  This project involves 20 small problems to give you practice                                                                                                                                          \n",
    "# with operators, types, and boolean logic.  We'll give you directions                                                                                                                                         \n",
    "# (as comments) on what to do for each problem.                                                                                                                                                                \n",
    "#                                                                                                                                                                                                              \n",
    "# Before you get started, please tell us who you are, putting your\n",
    "# Net ID and your partner's Net ID below (or none if your working solo)                                                                                                                                      \n",
    "\n",
    "# project: p2\n",
    "# submitter: NETID1\n",
    "# partner: NETID2"
   ]
  },
  {
   "cell_type": "code",
   "execution_count": 2,
   "metadata": {
    "collapsed": false
   },
   "outputs": [
    {
     "data": {
      "text/plain": [
       "2"
      ]
     },
     "execution_count": 2,
     "metadata": {},
     "output_type": "execute_result"
    }
   ],
   "source": [
    "#q1: what is 1+1?\n",
    "\n",
    "# we did this one for you :)\n",
    "\n",
    "1+1"
   ]
  },
  {
   "cell_type": "code",
   "execution_count": 3,
   "metadata": {
    "collapsed": false
   },
   "outputs": [
    {
     "data": {
      "text/plain": [
       "2020"
      ]
     },
     "execution_count": 3,
     "metadata": {},
     "output_type": "execute_result"
    }
   ],
   "source": [
    "#q2: what is 2000+20?\n",
    "\n",
    "2000+20"
   ]
  },
  {
   "cell_type": "code",
   "execution_count": 4,
   "metadata": {
    "collapsed": false
   },
   "outputs": [
    {
     "data": {
      "text/plain": [
       "int"
      ]
     },
     "execution_count": 4,
     "metadata": {},
     "output_type": "execute_result"
    }
   ],
   "source": [
    "#q3: what is the type of 2020?\n",
    "\n",
    "# we did this one for you too...\n",
    "\n",
    "type(2020)"
   ]
  },
  {
   "cell_type": "code",
   "execution_count": 5,
   "metadata": {
    "collapsed": false
   },
   "outputs": [
    {
     "data": {
      "text/plain": [
       "float"
      ]
     },
     "execution_count": 5,
     "metadata": {},
     "output_type": "execute_result"
    }
   ],
   "source": [
    "#q4: what is the type of 2020/8?\n",
    "\n",
    "type(2020/8)"
   ]
  },
  {
   "cell_type": "code",
   "execution_count": 6,
   "metadata": {
    "collapsed": false
   },
   "outputs": [
    {
     "data": {
      "text/plain": [
       "int"
      ]
     },
     "execution_count": 6,
     "metadata": {},
     "output_type": "execute_result"
    }
   ],
   "source": [
    "#q5: what is the type of 2020//8?\n",
    "\n",
    "type(2020//8)"
   ]
  },
  {
   "cell_type": "code",
   "execution_count": 7,
   "metadata": {
    "collapsed": false
   },
   "outputs": [
    {
     "data": {
      "text/plain": [
       "str"
      ]
     },
     "execution_count": 7,
     "metadata": {},
     "output_type": "execute_result"
    }
   ],
   "source": [
    "#q6: what is the type of \"2020\"?  Note the quotes!\n",
    "\n",
    "type(\"2020\")"
   ]
  },
  {
   "cell_type": "code",
   "execution_count": 8,
   "metadata": {
    "collapsed": false
   },
   "outputs": [
    {
     "data": {
      "text/plain": [
       "str"
      ]
     },
     "execution_count": 8,
     "metadata": {},
     "output_type": "execute_result"
    }
   ],
   "source": [
    "#q7: what is the type of \"True\"?  Note the quotes!\n",
    "\n",
    "type(\"True\")"
   ]
  },
  {
   "cell_type": "code",
   "execution_count": 9,
   "metadata": {
    "collapsed": false
   },
   "outputs": [
    {
     "data": {
      "text/plain": [
       "bool"
      ]
     },
     "execution_count": 9,
     "metadata": {},
     "output_type": "execute_result"
    }
   ],
   "source": [
    "#q8: what is the type of False?\n",
    "\n",
    "type(False)"
   ]
  },
  {
   "cell_type": "code",
   "execution_count": 10,
   "metadata": {
    "collapsed": false
   },
   "outputs": [
    {
     "data": {
      "text/plain": [
       "bool"
      ]
     },
     "execution_count": 10,
     "metadata": {},
     "output_type": "execute_result"
    }
   ],
   "source": [
    "#q9: what is the type of 2020<2019?\n",
    "\n",
    "type(2020<2019)"
   ]
  },
  {
   "cell_type": "code",
   "execution_count": 11,
   "metadata": {
    "collapsed": false
   },
   "outputs": [
    {
     "data": {
      "text/plain": [
       "2020"
      ]
     },
     "execution_count": 11,
     "metadata": {},
     "output_type": "execute_result"
    }
   ],
   "source": [
    "#q10: what is two thousand plus twenty?\n",
    "\n",
    "# fix the below to make Python do an addition that produces 2020\n",
    "\n",
    "# \"2000\" + \"20\"  - **** THIS SHOULD NOT BE A COMMENT WHEN ASSIGNED TO STUDENTS\n",
    "2000+20"
   ]
  },
  {
   "cell_type": "code",
   "execution_count": 12,
   "metadata": {
    "collapsed": false
   },
   "outputs": [
    {
     "data": {
      "text/plain": [
       "':):):):):):)'"
      ]
     },
     "execution_count": 12,
     "metadata": {},
     "output_type": "execute_result"
    }
   ],
   "source": [
    "#q11: please fix the following to display 6 smileys\n",
    "\n",
    "# \":)\" * 3 - **** THIS SHOULD NOT BE A COMMENT WHEN ASSIGNED TO STUDENTS\n",
    "\":)\" * 6"
   ]
  },
  {
   "cell_type": "code",
   "execution_count": 13,
   "metadata": {
    "collapsed": false
   },
   "outputs": [
    {
     "data": {
      "text/plain": [
       "42"
      ]
     },
     "execution_count": 13,
     "metadata": {},
     "output_type": "execute_result"
    }
   ],
   "source": [
    "#q12: please fix the following to get 42\n",
    "\n",
    "# \"6\" * 7 - **** THIS SHOULD NOT BE A COMMENT WHEN ASSIGNED TO STUDENTS\n",
    "6*7"
   ]
  },
  {
   "cell_type": "code",
   "execution_count": 14,
   "metadata": {
    "collapsed": false
   },
   "outputs": [
    {
     "data": {
      "text/plain": [
       "512"
      ]
     },
     "execution_count": 14,
     "metadata": {},
     "output_type": "execute_result"
    }
   ],
   "source": [
    "#q13: what is the volume of a cube with side length of 8?\n",
    "\n",
    "# oops, it is currently computing the area of a square (please fix)\n",
    "\n",
    "# 8 ** 2 - **** THIS SHOULD NOT BE A COMMENT WHEN ASSIGNED TO STUDENTS\n",
    "8**3"
   ]
  },
  {
   "cell_type": "code",
   "execution_count": 15,
   "metadata": {
    "collapsed": false
   },
   "outputs": [
    {
     "data": {
      "text/plain": [
       "1620"
      ]
     },
     "execution_count": 15,
     "metadata": {},
     "output_type": "execute_result"
    }
   ],
   "source": [
    "#q14: you start with 20 dollars and triple your money every decade.\n",
    "# how much will you have after 4 decades?\n",
    "\n",
    "20 * ( 3 ** 4)"
   ]
  },
  {
   "cell_type": "code",
   "execution_count": 16,
   "metadata": {
    "collapsed": false
   },
   "outputs": [
    {
     "data": {
      "text/plain": [
       "True"
      ]
     },
     "execution_count": 16,
     "metadata": {},
     "output_type": "execute_result"
    }
   ],
   "source": [
    "#q15: fix the Python logic to match the English\n",
    "\n",
    "# In English: 220 is less than 2020 and greater than 120\n",
    "\n",
    "# In Python:\n",
    "# 220 > 2020 and 220 < 120 - **** THIS SHOULD NOT BE A COMMENT WHEN ASSIGNED TO STUDENTS\n",
    "220 < 2020 and 220 > 120"
   ]
  },
  {
   "cell_type": "code",
   "execution_count": 17,
   "metadata": {
    "collapsed": false
   },
   "outputs": [
    {
     "data": {
      "text/plain": [
       "True"
      ]
     },
     "execution_count": 17,
     "metadata": {},
     "output_type": "execute_result"
    }
   ],
   "source": [
    "#q16: change ONLY the value of x to get True for the output\n",
    "\n",
    "# x = 0 - **** THIS SHOULD NOT BE A COMMENT WHEN ASSIGNED TO STUDENTS\n",
    "x = 1000\n",
    "x < 2020 and x > 220"
   ]
  },
  {
   "cell_type": "code",
   "execution_count": 18,
   "metadata": {
    "collapsed": false
   },
   "outputs": [
    {
     "data": {
      "text/plain": [
       "True"
      ]
     },
     "execution_count": 18,
     "metadata": {},
     "output_type": "execute_result"
    }
   ],
   "source": [
    "#q17: change ONLY the value of x to get True for the output\n",
    "\n",
    "# x = 0 - **** THIS SHOULD NOT BE A COMMENT WHEN ASSIGNED TO STUDENTS\n",
    "x = 2020\n",
    "(x > 2000 and x < 2021) and (x > 2019 and x < 3000)"
   ]
  },
  {
   "cell_type": "code",
   "execution_count": 19,
   "metadata": {
    "collapsed": false
   },
   "outputs": [
    {
     "data": {
      "text/plain": [
       "True"
      ]
     },
     "execution_count": 19,
     "metadata": {},
     "output_type": "execute_result"
    }
   ],
   "source": [
    "#q18: what???\n",
    "\n",
    "x = 2020\n",
    "\n",
    "# fix the following logic so we get True, not 2020.\n",
    "# The correct logic should check whether x is either\n",
    "# -2020 or 2020.  The problem is with types: to the left\n",
    "# of the or, we have a boolean, and to the right of\n",
    "# the or, we have an integer.  This semester, we will\n",
    "# always try to have a boolean to both the left and\n",
    "# right of logical operators such as or.\n",
    "\n",
    "# x == -2020 or 2020 - **** THIS SHOULD NOT BE A COMMENT WHEN ASSIGNED TO STUDENTS\n",
    "x == -2020 or x == 2020"
   ]
  },
  {
   "cell_type": "code",
   "execution_count": 20,
   "metadata": {
    "collapsed": false
   },
   "outputs": [
    {
     "data": {
      "text/plain": [
       "True"
      ]
     },
     "execution_count": 20,
     "metadata": {},
     "output_type": "execute_result"
    }
   ],
   "source": [
    "#q19: we should win!\n",
    "\n",
    "number = 36 \n",
    "\n",
    "# There are three winners, with numbers 36, 220, and 2020.\n",
    "# The following should output True if number is changed\n",
    "# to be any of these (but the logic is currently wrong).\n",
    "#\n",
    "# Please update the following expression so we get True\n",
    "# if the number variable is changed to any of the winning\n",
    "# options.\n",
    "\n",
    "# Did we win?\n",
    "# number == 35 and number == 220 and number == 2020 - **** THIS SHOULD NOT BE A COMMENT WHEN ASSIGNED TO STUDENTS\n",
    "number == 36 or number == 220 or number == 2020"
   ]
  },
  {
   "cell_type": "code",
   "execution_count": 21,
   "metadata": {
    "collapsed": false
   },
   "outputs": [
    {
     "data": {
      "text/plain": [
       "100.48"
      ]
     },
     "execution_count": 21,
     "metadata": {},
     "output_type": "execute_result"
    }
   ],
   "source": [
    "#q20: what is the volume of a cylinder with radius 4 and height 2?\n",
    "# you may assume PI is 3.14 if you like (a close answer is good enough)\n",
    "\n",
    "3.14 * (4 ** 2) * 2"
   ]
  }
 ],
 "metadata": {
  "anaconda-cloud": {},
  "kernelspec": {
   "display_name": "Python [default]",
   "language": "python",
   "name": "python3"
  },
  "language_info": {
   "codemirror_mode": {
    "name": "ipython",
    "version": 3
   },
   "file_extension": ".py",
   "mimetype": "text/x-python",
   "name": "python",
   "nbconvert_exporter": "python",
   "pygments_lexer": "ipython3",
   "version": "3.5.2"
  }
 },
 "nbformat": 4,
 "nbformat_minor": 2
}
